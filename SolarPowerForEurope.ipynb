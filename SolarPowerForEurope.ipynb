{
 "cells": [
  {
   "cell_type": "code",
   "execution_count": 1,
   "id": "ab6ae44a-9c28-47bb-ab7b-f3d666d228d1",
   "metadata": {},
   "outputs": [
    {
     "name": "stderr",
     "output_type": "stream",
     "text": [
      "C:\\Users\\jgr\\AppData\\Local\\anaconda3\\Lib\\site-packages\\paramiko\\pkey.py:82: CryptographyDeprecationWarning: TripleDES has been moved to cryptography.hazmat.decrepit.ciphers.algorithms.TripleDES and will be removed from this module in 48.0.0.\n",
      "  \"cipher\": algorithms.TripleDES,\n",
      "C:\\Users\\jgr\\AppData\\Local\\anaconda3\\Lib\\site-packages\\paramiko\\transport.py:219: CryptographyDeprecationWarning: Blowfish has been moved to cryptography.hazmat.decrepit.ciphers.algorithms.Blowfish and will be removed from this module in 45.0.0.\n",
      "  \"class\": algorithms.Blowfish,\n",
      "C:\\Users\\jgr\\AppData\\Local\\anaconda3\\Lib\\site-packages\\paramiko\\transport.py:243: CryptographyDeprecationWarning: TripleDES has been moved to cryptography.hazmat.decrepit.ciphers.algorithms.TripleDES and will be removed from this module in 48.0.0.\n",
      "  \"class\": algorithms.TripleDES,\n"
     ]
    }
   ],
   "source": [
    "import matplotlib.pyplot as plt\n",
    "import numpy as np\n",
    "import xarray as xr"
   ]
  },
  {
   "cell_type": "code",
   "execution_count": 22,
   "id": "bb60f7fe-fd6f-4cd1-9377-a98e722774b6",
   "metadata": {},
   "outputs": [],
   "source": [
    " data=xr.open_dataset(\"pvpot_2010.nc\")\n",
    "pvpot=data['__xarray_dataarray_variable__']\n",
    "\n",
    "#dsum.where(dsum==dsum.max(), drop=True).squeeze().coords[\"longitude\"].values"
   ]
  },
  {
   "cell_type": "markdown",
   "id": "2519d5bd-5f19-4581-b9a2-5bb7abceed8b",
   "metadata": {},
   "source": [
    "Function that computes how many km^2 of Europe have to be covered for EU's electricity consumption to be covered.\n",
    "pvpot is an xarray containing the pvpot values of Europe\n",
    "time is the time coordinate of pvpot\n",
    "size gives us te resolution of pvpot \n",
    "pvpeak is the peak power of the solar modues that we use (in TW/km^2)\n",
    "energyconsumption is the electricity consumption of the EU in a given year"
   ]
  },
  {
   "cell_type": "code",
   "execution_count": 2,
   "id": "99166824-9996-4e36-9b40-df35072ad7d3",
   "metadata": {},
   "outputs": [],
   "source": [
    "def powercoverage(pvpot,dum,size,pvpeak,energyconsumption):\n",
    "    dsum=pvpot.sum(dim=dum)\n",
    "    pvtotal=0\n",
    "    size=size\n",
    "    pvpeak=pvpeak\n",
    "    energyconsumption2=energyconsumption/size/pvpeak/30/24\n",
    "    latcoord=np.array([])\n",
    "    loncoord=latcoord\n",
    "    incr=1\n",
    "\n",
    "    while pvtotal<energyconsumption2:\n",
    "        lat1=dsum.where(dsum==dsum.max(), drop=True).squeeze().coords[\"latitude\"].values\n",
    "        lon1=dsum.where(dsum==dsum.max(), drop=True).squeeze().coords[\"longitude\"].values\n",
    "        latcoord=np.append(latcoord,lat1)\n",
    "        loncoord=np.append(loncoord,lon1)\n",
    "        incr=dsum.loc[dict(latitude=lat1,longitude=lon1)].values\n",
    "        pvtotal=pvtotal+incr\n",
    "        relov=(pvtotal-energyconsumption2)/incr\n",
    "        dsum.loc[dict(latitude=lat1,longitude=lon1)]=0\n",
    "        \n",
    "    print(\"For the coverage of the EU electricity consumption of \" +str(energyconsumption)+ \" TWh there would need to be \"+ str((len(latcoord)-relov)*size)+\" km^2 of solar power plants in Europe\")\n",
    "    print(\"The areas to be covered are located at\")\n",
    "    for j in zip(latcoord,loncoord):\n",
    "        print(j)"
   ]
  },
  {
   "cell_type": "markdown",
   "id": "043674c7-5397-4436-87cd-bff63f5cc7d9",
   "metadata": {},
   "source": [
    "time is likely to be measured in months, resolution of era5 is 31km*31km, pvpeak is assumed to be 240W/m^2=240/(10^6)TW/km^2, and the electricity consumption of the EU was 2888 TWh in 2023. pvpot has to be set properly."
   ]
  },
  {
   "cell_type": "code",
   "execution_count": 7,
   "id": "cc8528d4-4e6d-4562-a779-062069729258",
   "metadata": {},
   "outputs": [
    {
     "name": "stdout",
     "output_type": "stream",
     "text": [
      "Observations in year 2001:\n",
      "For the coverage of the EU electricity consumption of 2888 TWh there would need to be 6372.830757463056 km^2 of solar power plants in Europe\n",
      "The areas to be covered are located at\n",
      "(35.0, 28.25)\n",
      "(35.0, 28.0)\n",
      "(35.0, 27.75)\n",
      "(35.0, 28.5)\n",
      "(35.0, 27.5)\n",
      "(35.25, 27.0)\n",
      "(35.0, 28.75)\n",
      "Observations in year 2002:\n",
      "For the coverage of the EU electricity consumption of 2888 TWh there would need to be 6386.450757900249 km^2 of solar power plants in Europe\n",
      "The areas to be covered are located at\n",
      "(35.0, 4.75)\n",
      "(35.0, 38.0)\n",
      "(35.0, 38.25)\n",
      "(36.0, -3.25)\n",
      "(36.0, -3.0)\n",
      "(36.0, -3.5)\n",
      "(36.25, -3.0)\n",
      "Observations in year 2003:\n",
      "For the coverage of the EU electricity consumption of 2888 TWh there would need to be 6400.207579342253 km^2 of solar power plants in Europe\n",
      "The areas to be covered are located at\n",
      "(35.0, 38.25)\n",
      "(35.0, 39.0)\n",
      "(35.0, 38.0)\n",
      "(35.0, 38.5)\n",
      "(35.25, 39.0)\n",
      "(35.0, 38.75)\n",
      "(35.25, 39.25)\n",
      "Observations in year 2004:\n",
      "For the coverage of the EU electricity consumption of 2888 TWh there would need to be 6353.671140491377 km^2 of solar power plants in Europe\n",
      "The areas to be covered are located at\n",
      "(37.25, 34.0)\n",
      "(37.0, 33.75)\n",
      "(37.25, 34.25)\n",
      "(35.0, 38.0)\n",
      "(35.0, 27.0)\n",
      "(35.0, 26.75)\n",
      "(35.0, 38.25)\n",
      "Observations in year 2005:\n",
      "For the coverage of the EU electricity consumption of 2888 TWh there would need to be 6309.458139488331 km^2 of solar power plants in Europe\n",
      "The areas to be covered are located at\n",
      "(35.0, 38.0)\n",
      "(35.0, 38.25)\n",
      "(35.0, 38.5)\n",
      "(35.0, 39.0)\n",
      "(35.25, 39.25)\n",
      "(35.25, 39.0)\n",
      "(35.0, 38.75)\n",
      "Observations in year 2006:\n",
      "For the coverage of the EU electricity consumption of 2888 TWh there would need to be 6351.710786732157 km^2 of solar power plants in Europe\n",
      "The areas to be covered are located at\n",
      "(35.0, 38.0)\n",
      "(35.0, 38.25)\n",
      "(35.0, 38.5)\n",
      "(35.0, 28.0)\n",
      "(35.0, 28.25)\n",
      "(35.25, 39.0)\n",
      "(35.0, 27.75)\n",
      "Observations in year 2007:\n",
      "For the coverage of the EU electricity consumption of 2888 TWh there would need to be 6379.400367004869 km^2 of solar power plants in Europe\n",
      "The areas to be covered are located at\n",
      "(35.0, 39.0)\n",
      "(35.0, 38.25)\n",
      "(35.0, 38.5)\n",
      "(35.0, 38.0)\n",
      "(35.0, 38.75)\n",
      "(35.25, 39.0)\n",
      "(35.25, 39.25)\n",
      "Observations in year 2008:\n",
      "For the coverage of the EU electricity consumption of 2888 TWh there would need to be 6262.617708294907 km^2 of solar power plants in Europe\n",
      "The areas to be covered are located at\n",
      "(35.0, 38.25)\n",
      "(35.0, 38.0)\n",
      "(35.0, 39.0)\n",
      "(35.0, 38.5)\n",
      "(35.25, 39.0)\n",
      "(35.25, 39.25)\n",
      "(35.0, 38.75)\n",
      "Observations in year 2009:\n",
      "For the coverage of the EU electricity consumption of 2888 TWh there would need to be 6365.460624339015 km^2 of solar power plants in Europe\n",
      "The areas to be covered are located at\n",
      "(35.0, 39.0)\n",
      "(35.0, 38.25)\n",
      "(35.25, 39.25)\n",
      "(35.25, 39.0)\n",
      "(35.0, 38.5)\n",
      "(35.0, 38.0)\n",
      "(35.0, 38.75)\n",
      "Observations in year 2010:\n",
      "For the coverage of the EU electricity consumption of 2888 TWh there would need to be 6413.155403796935 km^2 of solar power plants in Europe\n",
      "The areas to be covered are located at\n",
      "(35.0, 38.0)\n",
      "(35.0, 38.25)\n",
      "(35.25, 39.0)\n",
      "(35.25, 39.25)\n",
      "(35.0, 39.0)\n",
      "(35.0, 37.75)\n",
      "(35.0, 38.5)\n"
     ]
    }
   ],
   "source": [
    "for i in range(2001,2011):\n",
    "    print(\"Observations in year \"+str(i)+\":\")\n",
    "    data=xr.open_dataset(\"pvpot_\"+str(i)+\".nc\")\n",
    "    pvpot=data['__xarray_dataarray_variable__']\n",
    "    powercoverage(pvpot,\"month\",31*31,240*10**-6,2888)"
   ]
  },
  {
   "cell_type": "code",
   "execution_count": null,
   "id": "087d92fa-38f4-41dc-b118-2850832b15b0",
   "metadata": {},
   "outputs": [],
   "source": []
  },
  {
   "cell_type": "code",
   "execution_count": null,
   "id": "bc867cba-a824-4972-9fee-9e28bf29d90f",
   "metadata": {},
   "outputs": [],
   "source": []
  }
 ],
 "metadata": {
  "kernelspec": {
   "display_name": "Python 3 (ipykernel)",
   "language": "python",
   "name": "python3"
  },
  "language_info": {
   "codemirror_mode": {
    "name": "ipython",
    "version": 3
   },
   "file_extension": ".py",
   "mimetype": "text/x-python",
   "name": "python",
   "nbconvert_exporter": "python",
   "pygments_lexer": "ipython3",
   "version": "3.12.7"
  }
 },
 "nbformat": 4,
 "nbformat_minor": 5
}
