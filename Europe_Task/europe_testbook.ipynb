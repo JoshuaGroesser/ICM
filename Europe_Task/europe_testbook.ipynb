{
 "cells": [
  {
   "cell_type": "markdown",
   "id": "e1001a39-4ded-439f-be0f-3d9010ad44ff",
   "metadata": {},
   "source": [
    "# TODO \n",
    "\n",
    "- Data from 2000-2010\n",
    "- Hourly values of PV-Pot\n",
    "    - Find min/max\n",
    "    - Daily averages\n",
    "    - Weekly averages\n",
    "- Sum up over europes landmass\n",
    "-  Rank it by the highest - Take x many highest cells that are needed\n",
    "    - this will kind of already give the area \n",
    "- Take mean over Europe?? take mean over Gridcells in Europe?\n",
    "    - 1000km sidelenght find minimum area? Is it consistent?\n",
    "    - Get the means in the Gridcells hourly/weekly\n",
    "    - Compare it throughout the years\n",
    "          - Does the grid with pv change\n",
    "          - Values change?\n",
    "\n",
    "## Get area for worst case! "
   ]
  },
  {
   "cell_type": "code",
   "execution_count": 2,
   "id": "d735e814-5146-48f9-b33d-51d5fe60574c",
   "metadata": {},
   "outputs": [],
   "source": [
    "import xarray as xr"
   ]
  },
  {
   "cell_type": "code",
   "execution_count": 6,
   "id": "29e66681",
   "metadata": {},
   "outputs": [],
   "source": [
    "ds=xr.open_mfdataset(\"/home/yannickh00/ICM/Europe_Task/Results/pvpot_2000.nc\", engine=\"netcdf4\", chunks={\"valid_time\":1e5} )"
   ]
  },
  {
   "cell_type": "code",
   "execution_count": 8,
   "id": "a58c334c",
   "metadata": {},
   "outputs": [
    {
     "name": "stdout",
     "output_type": "stream",
     "text": [
      "<xarray.Dataset> Size: 50MB\n",
      "Dimensions:                        (latitude: 721, longitude: 1440, month: 12)\n",
      "Coordinates:\n",
      "    number                         int64 8B ...\n",
      "  * latitude                       (latitude) float64 6kB 90.0 89.75 ... -90.0\n",
      "  * longitude                      (longitude) float64 12kB 0.0 0.25 ... 359.8\n",
      "  * month                          (month) int64 96B 1 2 3 4 5 6 7 8 9 10 11 12\n",
      "Data variables:\n",
      "    __xarray_dataarray_variable__  (month, latitude, longitude) float32 50MB dask.array<chunksize=(12, 721, 1440), meta=np.ndarray>\n"
     ]
    }
   ],
   "source": [
    "print(ds)"
   ]
  },
  {
   "cell_type": "code",
   "execution_count": null,
   "id": "bd63cca8",
   "metadata": {},
   "outputs": [],
   "source": []
  }
 ],
 "metadata": {
  "kernelspec": {
   "display_name": "Python 3 (ipykernel)",
   "language": "python",
   "name": "python3"
  },
  "language_info": {
   "codemirror_mode": {
    "name": "ipython",
    "version": 3
   },
   "file_extension": ".py",
   "mimetype": "text/x-python",
   "name": "python",
   "nbconvert_exporter": "python",
   "pygments_lexer": "ipython3",
   "version": "3.11.8"
  }
 },
 "nbformat": 4,
 "nbformat_minor": 5
}
