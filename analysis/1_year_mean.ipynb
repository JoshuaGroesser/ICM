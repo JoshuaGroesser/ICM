{
 "cells": [
  {
   "cell_type": "markdown",
   "id": "7d41920d-ccc6-4657-bacc-19006b87d7b8",
   "metadata": {},
   "source": [
    "# Example calculation of PV potential for ERA5 data"
   ]
  },
  {
   "cell_type": "code",
   "execution_count": null,
   "id": "99875287-2b84-460f-9c90-2e2542ff4e9b",
   "metadata": {},
   "outputs": [],
   "source": [
    "import xarray as xr\n",
    "import numpy as np\n",
    "import time\n",
    "from dask.distributed import Client, LocalCluster\n",
    "import matplotlib.pyplot as plt\n",
    "from glob import glob "
   ]
  },
  {
   "cell_type": "code",
   "execution_count": null,
   "id": "1f4067af-2ee7-43f5-b43d-94739e229f5c",
   "metadata": {},
   "outputs": [],
   "source": [
    "# location of era5 data on teachinghub\n",
    "path=\"/home/yannickh00/LEHRE/msc-intro-comp-met-ex-w2024/data/era5/\""
   ]
  },
  {
   "cell_type": "code",
   "execution_count": null,
   "id": "10ed560f-5773-42af-9861-d6116aa4e8f6",
   "metadata": {},
   "outputs": [],
   "source": [
    "cluster = LocalCluster(dashboard_adress=\":8788\"\n",
    "client = Client(cluster, n_workers=20, threads_per_worker=5)"
   ]
  },
  {
   "cell_type": "code",
   "execution_count": null,
   "id": "daf3daff-d39d-4a49-8c13-3ffba150a8b4",
   "metadata": {},
   "outputs": [],
   "source": [
    "year = '2000'\n",
    "filenames = glob(path+'era5-{year}*.nc')\n",
    "ds=xr.open_mfdataset(filenames)\n",
    "print(filenames)"
   ]
  },
  {
   "cell_type": "markdown",
   "id": "8af1d101-3f38-42b9-9f9d-f47c37b660f3",
   "metadata": {},
   "source": [
    "Calculate wind speed."
   ]
  },
  {
   "cell_type": "code",
   "execution_count": null,
   "id": "07374d0b-6a20-4027-9b78-65e59b26b959",
   "metadata": {},
   "outputs": [],
   "source": [
    "ds[\"wspd\"] = np.sqrt(np.power(ds[\"u10\"],2)+np.power(ds[\"v10\"],2))"
   ]
  },
  {
   "cell_type": "markdown",
   "id": "c484d2f8-130c-45b8-a741-e118f58726c1",
   "metadata": {},
   "source": [
    "Calculate PV potential following Jerez et al. 2015, https://www.nature.com/articles/ncomms10014.\n",
    "\n",
    "**Note:** radiative fluxes are accumulated over 1 hour, so we need to divided by seconds per hour to obtain fluxes in Wm-2."
   ]
  },
  {
   "cell_type": "code",
   "execution_count": 5,
   "id": "447d7b3b-957c-44a2-abae-72e6ef3a1ec7",
   "metadata": {},
   "outputs": [],
   "source": [
    "def calculate_pv_pot(ds): \n",
    "    sechour=3600 # secondd per hour\n",
    "\n",
    "    c1 = 4.3\n",
    "    c2 = 0.943\n",
    "    c3 = 0.028\n",
    "    c4 = -1.528\n",
    "    \n",
    "    # cell temperature\n",
    "    T_cell = c1 + c2 * (ds.t2m - 273.15) + c3 * ds.ssrd/sechour + c4 * ds.wspd\n",
    "    \n",
    "    # performance ratio\n",
    "    beta = -0.005\n",
    "    p_r = 1 + beta*(T_cell-25)\n",
    "    \n",
    "    # pv potential\n",
    "    pv_pot = p_r * ds.ssrd/(sechour) * 1/1000\n",
    "    return pv_pot"
   ]
  },
  {
   "cell_type": "markdown",
   "id": "036de419-2716-4ead-bd94-1d551b03b29c",
   "metadata": {},
   "source": [
    "Calculate time-mean PV potential and plot as a map."
   ]
  },
  {
   "cell_type": "code",
   "execution_count": null,
   "id": "3bc58d12-7d2d-45ae-996b-e18764af4889",
   "metadata": {},
   "outputs": [],
   "source": [
    "pv_pot = calculate_pv_pot(ds)\n",
    "pv_pot_tmean = pv_pot.mean(\"valid_time\").compute()"
   ]
  },
  {
   "cell_type": "code",
   "execution_count": null,
   "id": "65dc280c-78e0-483f-833e-9b32df81c728",
   "metadata": {},
   "outputs": [],
   "source": [
    "plt.contourf(ds.longitude, ds.latitude, pv_pot_tmean)\n",
    "plt.colorbar()\n",
    "plt.safefig('5_year_mean.png')"
   ]
  },
  {
   "cell_type": "code",
   "execution_count": null,
   "id": "70cc5656-f511-437c-bddf-73ea620d37ca",
   "metadata": {},
   "outputs": [],
   "source": [
    "# "
   ]
  }
 ],
 "metadata": {
  "kernelspec": {
   "display_name": "MagicPy",
   "language": "python",
   "name": "magicpy"
  },
  "language_info": {
   "codemirror_mode": {
    "name": "ipython",
    "version": 3
   },
   "file_extension": ".py",
   "mimetype": "text/x-python",
   "name": "python",
   "nbconvert_exporter": "python",
   "pygments_lexer": "ipython3",
   "version": "3.10.6"
  }
 },
 "nbformat": 4,
 "nbformat_minor": 5
}
