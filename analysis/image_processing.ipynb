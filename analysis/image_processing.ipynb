{
 "cells": [
  {
   "cell_type": "code",
   "execution_count": 4,
   "id": "6d29d4e5-01b9-4e88-b749-d5365ad1eb17",
   "metadata": {},
   "outputs": [],
   "source": [
    "from gif_maker import create_gif_from_pngs\n",
    "import glob\n"
   ]
  },
  {
   "cell_type": "code",
   "execution_count": 7,
   "id": "f930fc4c-0037-4b1d-98ef-798b500dbf16",
   "metadata": {
    "scrolled": true
   },
   "outputs": [
    {
     "name": "stdout",
     "output_type": "stream",
     "text": [
      "['/home/yannickh00/ICM/analysis/monthly_averages/9-2000.png', '/home/yannickh00/ICM/analysis/monthly_averages/10-2000.png', '/home/yannickh00/ICM/analysis/monthly_averages/11-2000.png', '/home/yannickh00/ICM/analysis/monthly_averages/12-2000.png', '/home/yannickh00/ICM/analysis/monthly_averages/1-2001.png', '/home/yannickh00/ICM/analysis/monthly_averages/2-2001.png', '/home/yannickh00/ICM/analysis/monthly_averages/3-2001.png', '/home/yannickh00/ICM/analysis/monthly_averages/4-2001.png', '/home/yannickh00/ICM/analysis/monthly_averages/5-2001.png', '/home/yannickh00/ICM/analysis/monthly_averages/6-2001.png', '/home/yannickh00/ICM/analysis/monthly_averages/7-2001.png', '/home/yannickh00/ICM/analysis/monthly_averages/8-2001.png', '/home/yannickh00/ICM/analysis/monthly_averages/9-2001.png', '/home/yannickh00/ICM/analysis/monthly_averages/10-2001.png', '/home/yannickh00/ICM/analysis/monthly_averages/11-2001.png', '/home/yannickh00/ICM/analysis/monthly_averages/12-2001.png', '/home/yannickh00/ICM/analysis/monthly_averages/1-2002.png', '/home/yannickh00/ICM/analysis/monthly_averages/2-2002.png', '/home/yannickh00/ICM/analysis/monthly_averages/3-2002.png', '/home/yannickh00/ICM/analysis/monthly_averages/4-2002.png', '/home/yannickh00/ICM/analysis/monthly_averages/5-2002.png', '/home/yannickh00/ICM/analysis/monthly_averages/6-2002.png', '/home/yannickh00/ICM/analysis/monthly_averages/7-2002.png', '/home/yannickh00/ICM/analysis/monthly_averages/8-2002.png', '/home/yannickh00/ICM/analysis/monthly_averages/9-2002.png', '/home/yannickh00/ICM/analysis/monthly_averages/10-2002.png', '/home/yannickh00/ICM/analysis/monthly_averages/11-2002.png', '/home/yannickh00/ICM/analysis/monthly_averages/12-2002.png', '/home/yannickh00/ICM/analysis/monthly_averages/1-2003.png', '/home/yannickh00/ICM/analysis/monthly_averages/2-2003.png', '/home/yannickh00/ICM/analysis/monthly_averages/3-2003.png', '/home/yannickh00/ICM/analysis/monthly_averages/4-2003.png', '/home/yannickh00/ICM/analysis/monthly_averages/5-2003.png', '/home/yannickh00/ICM/analysis/monthly_averages/6-2003.png', '/home/yannickh00/ICM/analysis/monthly_averages/7-2003.png', '/home/yannickh00/ICM/analysis/monthly_averages/8-2003.png', '/home/yannickh00/ICM/analysis/monthly_averages/9-2003.png', '/home/yannickh00/ICM/analysis/monthly_averages/10-2003.png', '/home/yannickh00/ICM/analysis/monthly_averages/11-2003.png', '/home/yannickh00/ICM/analysis/monthly_averages/1-2004.png', '/home/yannickh00/ICM/analysis/monthly_averages/12-2003.png', '/home/yannickh00/ICM/analysis/monthly_averages/2-2004.png', '/home/yannickh00/ICM/analysis/monthly_averages/3-2004.png', '/home/yannickh00/ICM/analysis/monthly_averages/4-2004.png', '/home/yannickh00/ICM/analysis/monthly_averages/5-2004.png', '/home/yannickh00/ICM/analysis/monthly_averages/6-2004.png', '/home/yannickh00/ICM/analysis/monthly_averages/7-2004.png', '/home/yannickh00/ICM/analysis/monthly_averages/8-2004.png', '/home/yannickh00/ICM/analysis/monthly_averages/9-2004.png', '/home/yannickh00/ICM/analysis/monthly_averages/10-2004.png', '/home/yannickh00/ICM/analysis/monthly_averages/11-2004.png', '/home/yannickh00/ICM/analysis/monthly_averages/12-2004.png', '/home/yannickh00/ICM/analysis/monthly_averages/1-2005.png', '/home/yannickh00/ICM/analysis/monthly_averages/2-2005.png', '/home/yannickh00/ICM/analysis/monthly_averages/3-2005.png', '/home/yannickh00/ICM/analysis/monthly_averages/4-2005.png', '/home/yannickh00/ICM/analysis/monthly_averages/5-2005.png', '/home/yannickh00/ICM/analysis/monthly_averages/6-2005.png', '/home/yannickh00/ICM/analysis/monthly_averages/7-2005.png', '/home/yannickh00/ICM/analysis/monthly_averages/8-2005.png', '/home/yannickh00/ICM/analysis/monthly_averages/9-2005.png', '/home/yannickh00/ICM/analysis/monthly_averages/11-2005.png', '/home/yannickh00/ICM/analysis/monthly_averages/12-2005.png', '/home/yannickh00/ICM/analysis/monthly_averages/2-2006.png', '/home/yannickh00/ICM/analysis/monthly_averages/3-2006.png', '/home/yannickh00/ICM/analysis/monthly_averages/5-2006.png', '/home/yannickh00/ICM/analysis/monthly_averages/6-2006.png', '/home/yannickh00/ICM/analysis/monthly_averages/8-2006.png', '/home/yannickh00/ICM/analysis/monthly_averages/9-2006.png', '/home/yannickh00/ICM/analysis/monthly_averages/11-2006.png', '/home/yannickh00/ICM/analysis/monthly_averages/12-2006.png', '/home/yannickh00/ICM/analysis/monthly_averages/2-2008.png', '/home/yannickh00/ICM/analysis/monthly_averages/3-2008.png', '/home/yannickh00/ICM/analysis/monthly_averages/5-2008.png', '/home/yannickh00/ICM/analysis/monthly_averages/6-2008.png', '/home/yannickh00/ICM/analysis/monthly_averages/8-2008.png', '/home/yannickh00/ICM/analysis/monthly_averages/9-2008.png', '/home/yannickh00/ICM/analysis/monthly_averages/11-2008.png', '/home/yannickh00/ICM/analysis/monthly_averages/12-2008.png', '/home/yannickh00/ICM/analysis/monthly_averages/2-2007.png', '/home/yannickh00/ICM/analysis/monthly_averages/3-2007.png', '/home/yannickh00/ICM/analysis/monthly_averages/5-2007.png', '/home/yannickh00/ICM/analysis/monthly_averages/6-2007.png', '/home/yannickh00/ICM/analysis/monthly_averages/8-2007.png', '/home/yannickh00/ICM/analysis/monthly_averages/9-2007.png', '/home/yannickh00/ICM/analysis/monthly_averages/11-2007.png', '/home/yannickh00/ICM/analysis/monthly_averages/12-2007.png', '/home/yannickh00/ICM/analysis/monthly_averages/2-2009.png', '/home/yannickh00/ICM/analysis/monthly_averages/3-2009.png', '/home/yannickh00/ICM/analysis/monthly_averages/5-2009.png', '/home/yannickh00/ICM/analysis/monthly_averages/6-2009.png', '/home/yannickh00/ICM/analysis/monthly_averages/8-2009.png', '/home/yannickh00/ICM/analysis/monthly_averages/9-2009.png', '/home/yannickh00/ICM/analysis/monthly_averages/11-2009.png', '/home/yannickh00/ICM/analysis/monthly_averages/12-2009.png', '/home/yannickh00/ICM/analysis/monthly_averages/2-2010.png', '/home/yannickh00/ICM/analysis/monthly_averages/3-2010.png', '/home/yannickh00/ICM/analysis/monthly_averages/1-2000.png', '/home/yannickh00/ICM/analysis/monthly_averages/2-2000.png', '/home/yannickh00/ICM/analysis/monthly_averages/3-2000.png', '/home/yannickh00/ICM/analysis/monthly_averages/4-2000.png', '/home/yannickh00/ICM/analysis/monthly_averages/5-2000.png', '/home/yannickh00/ICM/analysis/monthly_averages/6-2000.png', '/home/yannickh00/ICM/analysis/monthly_averages/7-2000.png', '/home/yannickh00/ICM/analysis/monthly_averages/8-2000.png', '/home/yannickh00/ICM/analysis/monthly_averages/10-2005.png', '/home/yannickh00/ICM/analysis/monthly_averages/1-2006.png', '/home/yannickh00/ICM/analysis/monthly_averages/4-2006.png', '/home/yannickh00/ICM/analysis/monthly_averages/7-2006.png', '/home/yannickh00/ICM/analysis/monthly_averages/10-2006.png', '/home/yannickh00/ICM/analysis/monthly_averages/1-2008.png', '/home/yannickh00/ICM/analysis/monthly_averages/4-2008.png', '/home/yannickh00/ICM/analysis/monthly_averages/7-2008.png', '/home/yannickh00/ICM/analysis/monthly_averages/10-2008.png', '/home/yannickh00/ICM/analysis/monthly_averages/1-2007.png', '/home/yannickh00/ICM/analysis/monthly_averages/4-2007.png', '/home/yannickh00/ICM/analysis/monthly_averages/7-2007.png', '/home/yannickh00/ICM/analysis/monthly_averages/10-2007.png', '/home/yannickh00/ICM/analysis/monthly_averages/1-2009.png', '/home/yannickh00/ICM/analysis/monthly_averages/4-2009.png', '/home/yannickh00/ICM/analysis/monthly_averages/7-2009.png', '/home/yannickh00/ICM/analysis/monthly_averages/10-2009.png', '/home/yannickh00/ICM/analysis/monthly_averages/1-2010.png', '/home/yannickh00/ICM/analysis/monthly_averages/4-2010.png', '/home/yannickh00/ICM/analysis/monthly_averages/5-2010.png', '/home/yannickh00/ICM/analysis/monthly_averages/6-2010.png', '/home/yannickh00/ICM/analysis/monthly_averages/7-2010.png', '/home/yannickh00/ICM/analysis/monthly_averages/8-2010.png', '/home/yannickh00/ICM/analysis/monthly_averages/9-2010.png', '/home/yannickh00/ICM/analysis/monthly_averages/10-2010.png', '/home/yannickh00/ICM/analysis/monthly_averages/11-2010.png', '/home/yannickh00/ICM/analysis/monthly_averages/12-2010.png']\n"
     ]
    }
   ],
   "source": [
    "all_files = glob.glob(\"/home/yannickh00/ICM/analysis/monthly_averages/*\")\n",
    "all_files = [f for f in all_files if \".png\" in f]\n",
    "gif_path = \"/home/yannickh00/ICM/analysis/monthly_averages/gifs/\"\n",
    "print(all_files)"
   ]
  },
  {
   "cell_type": "code",
   "execution_count": 8,
   "id": "d629b8fd-a69a-46e3-b4e8-d205f27ec4fe",
   "metadata": {},
   "outputs": [],
   "source": [
    "import re\n",
    "\n",
    "# Function to extract year and month for sorting\n",
    "def extract_date(filepath):\n",
    "    match = re.search(r'(\\d+)-(\\d+)\\.png', filepath)\n",
    "    if match:\n",
    "        month, year = int(match.group(1)), int(match.group(2))\n",
    "        return (year, month)\n",
    "\n",
    "# Sort the list based on the extracted year and month\n",
    "all_files_sorted = sorted(all_files, key=extract_date)"
   ]
  },
  {
   "cell_type": "code",
   "execution_count": 9,
   "id": "ccea95e6-30fd-418d-b608-52880c7bcfec",
   "metadata": {},
   "outputs": [
    {
     "name": "stdout",
     "output_type": "stream",
     "text": [
      "Successfully created /home/yannickh00/ICM/analysis/monthly_averages/gifs/2000-2010_monthly.gif\n"
     ]
    },
    {
     "data": {
      "text/plain": [
       "True"
      ]
     },
     "execution_count": 9,
     "metadata": {},
     "output_type": "execute_result"
    }
   ],
   "source": [
    "create_gif_from_pngs(all_files_sorted,\n",
    "                     gif_path + \"2000-2010_monthly.gif\",\n",
    "                     duration=400)"
   ]
  },
  {
   "cell_type": "code",
   "execution_count": 10,
   "id": "f7bb7d09-d2c7-4b18-b0c5-8be317cab78c",
   "metadata": {},
   "outputs": [
    {
     "name": "stdout",
     "output_type": "stream",
     "text": [
      "Successfully created /home/yannickh00/ICM/analysis/monthly_averages/gifs/1_2000-2010.gif\n",
      "Successfully created /home/yannickh00/ICM/analysis/monthly_averages/gifs/2_2000-2010.gif\n",
      "Successfully created /home/yannickh00/ICM/analysis/monthly_averages/gifs/3_2000-2010.gif\n",
      "Successfully created /home/yannickh00/ICM/analysis/monthly_averages/gifs/4_2000-2010.gif\n",
      "Successfully created /home/yannickh00/ICM/analysis/monthly_averages/gifs/5_2000-2010.gif\n",
      "Successfully created /home/yannickh00/ICM/analysis/monthly_averages/gifs/6_2000-2010.gif\n",
      "Successfully created /home/yannickh00/ICM/analysis/monthly_averages/gifs/7_2000-2010.gif\n",
      "Successfully created /home/yannickh00/ICM/analysis/monthly_averages/gifs/8_2000-2010.gif\n",
      "Successfully created /home/yannickh00/ICM/analysis/monthly_averages/gifs/9_2000-2010.gif\n",
      "Successfully created /home/yannickh00/ICM/analysis/monthly_averages/gifs/10_2000-2010.gif\n",
      "Successfully created /home/yannickh00/ICM/analysis/monthly_averages/gifs/11_2000-2010.gif\n",
      "Successfully created /home/yannickh00/ICM/analysis/monthly_averages/gifs/12_2000-2010.gif\n"
     ]
    }
   ],
   "source": [
    "for i in range(1,13):\n",
    "    files_specific_month = [f for f in all_files if f\"/{i}-\" in f or f\"\\\\{i}-\" in f]\n",
    "    files_specific_month_sorted = sorted(files_specific_month, key=extract_date)\n",
    "    files_specific_month_sorted\n",
    "    \n",
    "    create_gif_from_pngs(files_specific_month_sorted,\n",
    "                         gif_path + f\"{i}_2000-2010.gif\",\n",
    "                         duration=400)"
   ]
  },
  {
   "cell_type": "code",
   "execution_count": null,
   "id": "e2a8469f-5ef8-4b34-8b7e-2ecedc6655fb",
   "metadata": {},
   "outputs": [],
   "source": []
  }
 ],
 "metadata": {
  "kernelspec": {
   "display_name": "Python 3 (ipykernel)",
   "language": "python",
   "name": "python3"
  },
  "language_info": {
   "codemirror_mode": {
    "name": "ipython",
    "version": 3
   },
   "file_extension": ".py",
   "mimetype": "text/x-python",
   "name": "python",
   "nbconvert_exporter": "python",
   "pygments_lexer": "ipython3",
   "version": "3.11.8"
  }
 },
 "nbformat": 4,
 "nbformat_minor": 5
}
