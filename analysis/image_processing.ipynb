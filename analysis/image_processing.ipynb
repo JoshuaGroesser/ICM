{
 "cells": [
  {
   "cell_type": "code",
   "execution_count": 6,
   "id": "6d29d4e5-01b9-4e88-b749-d5365ad1eb17",
   "metadata": {},
   "outputs": [],
   "source": [
    "from gif_maker import create_gif_from_pngs\n",
    "import glob\n"
   ]
  },
  {
   "cell_type": "code",
   "execution_count": 7,
   "id": "f930fc4c-0037-4b1d-98ef-798b500dbf16",
   "metadata": {},
   "outputs": [],
   "source": [
    "all_files = glob.glob(\"/home/yannickh00/ICM/analysis/monthly_averages/*\")\n",
    "gif_path = \"/home/yannickh00/ICM/analysis/gifs/\""
   ]
  },
  {
   "cell_type": "code",
   "execution_count": 8,
   "id": "d629b8fd-a69a-46e3-b4e8-d205f27ec4fe",
   "metadata": {},
   "outputs": [],
   "source": [
    "import re\n",
    "\n",
    "# Function to extract year and month for sorting\n",
    "def extract_date(filepath):\n",
    "    match = re.search(r'(\\d+)-(\\d+)\\.png', filepath)\n",
    "    if match:\n",
    "        month, year = int(match.group(1)), int(match.group(2))\n",
    "        return (year, month)\n",
    "\n",
    "# Sort the list based on the extracted year and month\n",
    "all_files_sorted = sorted(all_files, key=extract_date)"
   ]
  },
  {
   "cell_type": "code",
   "execution_count": 9,
   "id": "ccea95e6-30fd-418d-b608-52880c7bcfec",
   "metadata": {},
   "outputs": [
    {
     "name": "stdout",
     "output_type": "stream",
     "text": [
      "Successfully created /home/yannickh00/ICM/analysis/gifs/2000-2010_monthly.gif\n"
     ]
    },
    {
     "data": {
      "text/plain": [
       "True"
      ]
     },
     "execution_count": 9,
     "metadata": {},
     "output_type": "execute_result"
    }
   ],
   "source": [
    "create_gif_from_pngs(all_files_sorted,\n",
    "                     gif_path + \"2000-2010_monthly.gif\",\n",
    "                     duration=400)"
   ]
  },
  {
   "cell_type": "code",
   "execution_count": null,
   "id": "f7bb7d09-d2c7-4b18-b0c5-8be317cab78c",
   "metadata": {},
   "outputs": [
    {
     "name": "stdout",
     "output_type": "stream",
     "text": [
      "Successfully created /home/yannickh00/ICM/analysis/gifs/1_2000-2010.gif\n",
      "Successfully created /home/yannickh00/ICM/analysis/gifs/2_2000-2010.gif\n",
      "Successfully created /home/yannickh00/ICM/analysis/gifs/3_2000-2010.gif\n",
      "Successfully created /home/yannickh00/ICM/analysis/gifs/4_2000-2010.gif\n",
      "Successfully created /home/yannickh00/ICM/analysis/gifs/5_2000-2010.gif\n",
      "Successfully created /home/yannickh00/ICM/analysis/gifs/6_2000-2010.gif\n",
      "Successfully created /home/yannickh00/ICM/analysis/gifs/7_2000-2010.gif\n",
      "Successfully created /home/yannickh00/ICM/analysis/gifs/8_2000-2010.gif\n"
     ]
    }
   ],
   "source": [
    "for i in range(1,13):\n",
    "    files_specific_month = [f for f in all_files if f\"/{i}-\" in f or f\"\\\\{i}-\" in f]\n",
    "    files_specific_month_sorted = sorted(files_specific_month, key=extract_date)\n",
    "    files_specific_month_sorted\n",
    "    \n",
    "    create_gif_from_pngs(files_specific_month_sorted,\n",
    "                         gif_path + f\"{i}_2000-2010.gif\",\n",
    "                         duration=400)"
   ]
  },
  {
   "cell_type": "code",
   "execution_count": null,
   "id": "e2a8469f-5ef8-4b34-8b7e-2ecedc6655fb",
   "metadata": {},
   "outputs": [],
   "source": []
  }
 ],
 "metadata": {
  "kernelspec": {
   "display_name": "Python 3 (ipykernel)",
   "language": "python",
   "name": "python3"
  },
  "language_info": {
   "codemirror_mode": {
    "name": "ipython",
    "version": 3
   },
   "file_extension": ".py",
   "mimetype": "text/x-python",
   "name": "python",
   "nbconvert_exporter": "python",
   "pygments_lexer": "ipython3",
   "version": "3.11.8"
  }
 },
 "nbformat": 4,
 "nbformat_minor": 5
}
