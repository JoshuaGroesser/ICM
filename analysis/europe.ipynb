{
 "cells": [
  {
   "cell_type": "markdown",
   "id": "e1001a39-4ded-439f-be0f-3d9010ad44ff",
   "metadata": {},
   "source": [
    "# TODO \n",
    "\n",
    "- Data from 2000-2010\n",
    "- Hourly values of PV-Pot\n",
    "    - Find min/max\n",
    "    - Daily averages\n",
    "    - Weekly averages\n",
    "- Sum up over europes landmass\n",
    "-  Rank it by the highest - Take x many highest cells that are needed\n",
    "    - this will kind of already give the area \n",
    "- Take mean over Europe?? take mean over Gridcells in Europe?\n",
    "    - 1000km sidelenght find minimum area? Is it consistent?\n",
    "    - Get the means in the Gridcells hourly/weekly\n",
    "    - Compare it throughout the years\n",
    "          - Does the grid with pv change\n",
    "          - Values change?\n",
    "\n",
    "## Get area for worst case! "
   ]
  },
  {
   "cell_type": "code",
   "execution_count": null,
   "id": "810e1765-0887-4469-b6df-8d1eeedd3532",
   "metadata": {},
   "outputs": [],
   "source": []
  }
 ],
 "metadata": {
  "kernelspec": {
   "display_name": "Python 3 (ipykernel)",
   "language": "python",
   "name": "python3"
  },
  "language_info": {
   "codemirror_mode": {
    "name": "ipython",
    "version": 3
   },
   "file_extension": ".py",
   "mimetype": "text/x-python",
   "name": "python",
   "nbconvert_exporter": "python",
   "pygments_lexer": "ipython3",
   "version": "3.11.8"
  }
 },
 "nbformat": 4,
 "nbformat_minor": 5
}
